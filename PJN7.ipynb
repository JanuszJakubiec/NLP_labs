{
 "cells": [
  {
   "cell_type": "code",
   "execution_count": 1,
   "id": "f172cb58-1258-4b8e-bd7b-fa64b49be609",
   "metadata": {
    "tags": []
   },
   "outputs": [],
   "source": [
    "from datasets import load_dataset\n",
    "import pandas as pd\n",
    "import spacy\n",
    "from tqdm.notebook import tqdm\n",
    "from tabulate import tabulate\n",
    "import matplotlib.pyplot as plt\n",
    "\n",
    "\n",
    "dataset = load_dataset(\"clarin-knext/fiqa-pl\", 'corpus')['corpus'].to_pandas()"
   ]
  },
  {
   "cell_type": "markdown",
   "id": "434d8a9f-b98f-4293-8aff-8597c3fd4194",
   "metadata": {
    "tags": []
   },
   "source": [
    "## Zadanie 2"
   ]
  },
  {
   "cell_type": "code",
   "execution_count": 2,
   "id": "9bd80e9f-f56b-41ee-b3be-03633348acd9",
   "metadata": {
    "tags": []
   },
   "outputs": [
    {
     "name": "stdout",
     "output_type": "stream",
     "text": [
      "1000\n"
     ]
    }
   ],
   "source": [
    "# wybieram 1000 losowych dokuemntów\n",
    "df_random = dataset.sample(n=1000)\n",
    "print(len(df_random))"
   ]
  },
  {
   "cell_type": "markdown",
   "id": "8760ee0f-94f2-4943-8545-5c39c2f8ec45",
   "metadata": {},
   "source": [
    "# Zadanie 3"
   ]
  },
  {
   "cell_type": "code",
   "execution_count": 3,
   "id": "b9fdc195-e87d-43cd-82fd-50768107de7a",
   "metadata": {
    "tags": []
   },
   "outputs": [
    {
     "data": {
      "application/vnd.jupyter.widget-view+json": {
       "model_id": "296cce6ebd9d48feb994c340bf4ac2d5",
       "version_major": 2,
       "version_minor": 0
      },
      "text/plain": [
       "Processing:   0%|          | 0/1000 [00:00<?, ?it/s]"
      ]
     },
     "metadata": {},
     "output_type": "display_data"
    }
   ],
   "source": [
    "# funkcja do dodawania do słownika klucza\n",
    "def add_to_frequency_dict(dict, key):\n",
    "    if key in dict:\n",
    "        dict[key] += 1\n",
    "    else:\n",
    "        dict[key] = 1\n",
    "\n",
    "# tworzę listę frekwencyjną named-entities\n",
    "frequency_dict = {}\n",
    "nlp = spacy.load('pl_core_news_sm')\n",
    "for document in tqdm(df_random.iloc, desc = \"Processing: \", total=len(df_random)):   \n",
    "    doc = nlp(document.text)\n",
    "    # iteruję po zdaniach dla danego dokumentu\n",
    "    for sentence in doc.sents:\n",
    "        # sequence to akumulator, do którego dodaję kolejne części sekwencyjnego named-entity(takiego który składa się z więcej niż 1 członu)\n",
    "        sequence = \"\"\n",
    "        # enumerate, ponieważ chcę ignorować pierwsze słowo\n",
    "        for id, word in enumerate(sentence):\n",
    "            if id == 0:\n",
    "                continue\n",
    "            # Jeżeli token zaczyna się od wielkiej litery, to dodaję go do sequence\n",
    "            if word.text[0].isupper():\n",
    "                sequence += word.lemma_.capitalize() + \" \"\n",
    "                continue\n",
    "            # jeżeli token nie zaczyna się od wielkiej litery, to zapisuję sequence do słownika, bez ostatniego znaku, który jest spacją\n",
    "            if len(sequence) != 0:\n",
    "                add_to_frequency_dict(frequency_dict, sequence[:-1])\n",
    "                sequence = \"\""
   ]
  },
  {
   "cell_type": "markdown",
   "id": "322ae6e8-1d12-4c99-821e-17251e9f3404",
   "metadata": {},
   "source": [
    "# Zadanie 4"
   ]
  },
  {
   "cell_type": "code",
   "execution_count": 4,
   "id": "8b4a247b-c208-4250-a372-4538370489df",
   "metadata": {
    "tags": []
   },
   "outputs": [
    {
     "name": "stdout",
     "output_type": "stream",
     "text": [
      "[['Dolar_amerykański', 327], ['Twój', 208], ['Ty', 113], ['Usa', 79], ['Irs', 45], ['Ciebie', 41], ['K', 39], ['Stany Zjednoczone', 38], ['Nie', 37], ['Amazon', 31], ['W', 30], ['To', 29], ['Google', 26], ['A', 26], ['Jeśli', 25], ['Ira', 23], ['X', 21], ['Czy', 19], ['Pkb', 19], ['Cdo', 19], ['Być', 17], ['Tak', 16], ['B', 15], ['Twojej', 15], ['Fsa', 15], ['Europa', 14], ['Etf', 14], ['Cd', 14], ['Fico', 13], ['Hft', 12], ['Istnieć', 12], ['Roth', 11], ['Twoją', 11], ['E', 11], ['S&p', 11], ['Trump', 11], ['Ale', 11], ['Móc', 11], ['Jak', 11], ['Apple', 11], ['Amerykanin', 11], ['C', 11], ['Wielki Brytania', 10], ['P', 10], ['S', 10], ['Internet', 10], ['Indie', 10], ['Walmart', 10], ['Huawei', 10], ['T', 10]]\n"
     ]
    }
   ],
   "source": [
    "# wyświetlam listę top 50 named-entities\n",
    "frequency_list = [[key, frequency_dict[key]] for key in frequency_dict.keys()]\n",
    "frequency_list.sort(key=lambda x: x[1], reverse = True)\n",
    "print(frequency_list[:50])"
   ]
  },
  {
   "cell_type": "markdown",
   "id": "084adb35-c3c2-4fc2-92ca-347f281c3c25",
   "metadata": {},
   "source": [
    "Powyżej prezentuje listę 50 najczęściej występujących nazw własnych, znalezionych w korpusie."
   ]
  },
  {
   "cell_type": "markdown",
   "id": "3604b605-e08a-4961-ad84-ea4742e7b9b8",
   "metadata": {},
   "source": [
    "# Zadanie 5"
   ]
  },
  {
   "cell_type": "code",
   "execution_count": 5,
   "id": "c504d907-10da-4d13-83f9-cf2feea4ac11",
   "metadata": {
    "tags": []
   },
   "outputs": [
    {
     "data": {
      "application/vnd.jupyter.widget-view+json": {
       "model_id": "e30afee77d494f3cb656d28ab67abdf4",
       "version_major": 2,
       "version_minor": 0
      },
      "text/plain": [
       "Processing:   0%|          | 0/1000 [00:00<?, ?it/s]"
      ]
     },
     "metadata": {},
     "output_type": "display_data"
    }
   ],
   "source": [
    "classes = {}\n",
    "\n",
    "# dodaję element do słownika,\n",
    "def add_element_to_classes(classes, ent_label, ent_value):\n",
    "    # słownik wygląda następująco: {klasa1: [{named_entity_z_klasy: liczba_wystąpnień_danego_named_entity}, liczba_elementów_z_danej_klasy]}\n",
    "    if ent_label in classes:\n",
    "        if ent_value in classes[ent_label][0]:\n",
    "            classes[ent_label][0][ent_value] += 1\n",
    "        else:\n",
    "            classes[ent_label][0][ent_value] = 1\n",
    "        classes[ent_label][1] += 1\n",
    "    else:\n",
    "        classes[ent_label] = [{}, 0]\n",
    "        \n",
    "# korzytam z NER z spacy, do wyznaczenia klasy tokenu, oraz zapisuję go do słownika \"classes\"\n",
    "for document in tqdm(df_random.iloc, desc = \"Processing: \", total=len(df_random)):\n",
    "    doc = nlp(document.text)\n",
    "    for ent in doc.ents:\n",
    "        add_element_to_classes(classes, ent.label_, ent.lemma_)"
   ]
  },
  {
   "cell_type": "markdown",
   "id": "e6d68a7b-5435-4813-b2b7-f9c2cf0a6d29",
   "metadata": {},
   "source": [
    "# Zadanie 6"
   ]
  },
  {
   "cell_type": "code",
   "execution_count": 6,
   "id": "e63253da-9342-4cee-81e6-730c065d0298",
   "metadata": {},
   "outputs": [
    {
     "data": {
      "image/png": "[encoded data removed]",
      "text/plain": [
       "<Figure size 1000x600 with 1 Axes>"
      ]
     },
     "metadata": {},
     "output_type": "display_data"
    }
   ],
   "source": [
    "#Wykres liczby wystąpień elementów należących do danej klasy\n",
    "plt.figure(figsize=(10, 6))\n",
    "plt.bar(classes.keys(), [classes[key][1] for key in classes.keys()])\n",
    "plt.title(\"Frequency of Identified Classes\")\n",
    "plt.xlabel(\"Entity Types\")\n",
    "plt.ylabel(\"Frequency\")\n",
    "plt.show()"
   ]
  },
  {
   "cell_type": "markdown",
   "id": "7b6116c2-0e4f-4cb0-a3db-0a0f3b1693c0",
   "metadata": {},
   "source": [
    "# Zadanie 7"
   ]
  },
  {
   "cell_type": "code",
   "execution_count": 7,
   "id": "c8eb1c55-75d4-4b02-b507-9a3163ea5321",
   "metadata": {
    "tags": []
   },
   "outputs": [],
   "source": [
    "#Wyświetlam top10 elementów dla każdej klasy\n",
    "def display_top10_for_each_class(dict, print_elems_n):\n",
    "    class_names = dict.keys()\n",
    "    #iteruję po klasach\n",
    "    for class_name in class_names:\n",
    "        class_dict = dict[class_name][0]\n",
    "        print(f\"------------------------------------{class_name}------------------------------------\")\n",
    "        #sortuję listę named_entities dla danej klasy\n",
    "        list = [(key, class_dict[key]) for key in class_dict.keys()]\n",
    "        list.sort(key=lambda x: x[1], reverse=True)\n",
    "        # wyświetlam min(10, liczba_elementów_list) elementów z danej klasy, po posortowaniu\n",
    "        for i in range(min(print_elems_n, len(list))):\n",
    "            print(f\"  {list[i][0]}: {list[i][1]}\")"
   ]
  },
  {
   "cell_type": "code",
   "execution_count": 8,
   "id": "175ce981-9700-4d7e-be01-a169128503f2",
   "metadata": {
    "tags": []
   },
   "outputs": [
    {
     "name": "stdout",
     "output_type": "stream",
     "text": [
      "------------------------------------placeName------------------------------------\n",
      "  USA: 80\n",
      "  amerykański: 58\n",
      "  Stany Zjednoczone: 39\n",
      "  Indie: 10\n",
      "  Amerykanin: 9\n",
      "  Australia: 8\n",
      "  chiński: 8\n",
      "  Chiny: 8\n",
      "  Wielki Brytania: 7\n",
      "  nowy Jork: 6\n",
      "------------------------------------persName------------------------------------\n",
      "  Amazon: 29\n",
      "  gdyby być: 13\n",
      "  Trump: 11\n",
      "  Huawei: 9\n",
      "  Obama: 7\n",
      "  sald: 7\n",
      "  Hachette: 6\n",
      "  Excel: 5\n",
      "  Schwab: 5\n",
      "  Fidelity: 5\n",
      "------------------------------------orgName------------------------------------\n",
      "  Google: 25\n",
      "  IRA: 24\n",
      "  CDO: 14\n",
      "  ETF: 13\n",
      "  Apple: 12\n",
      "  SS: 8\n",
      "  S&P: 8\n",
      "  SPY: 8\n",
      "  FICO: 8\n",
      "  SIM: 8\n",
      "------------------------------------date------------------------------------\n",
      "  1099: 9\n",
      "  2008 rok: 6\n",
      "  1040: 5\n",
      "  2016 rok.: 5\n",
      "  2012 rok.: 4\n",
      "  2010: 4\n",
      "  grudzień: 4\n",
      "  rok 90.: 4\n",
      "  2015 rok: 4\n",
      "  2016 rok: 4\n",
      "------------------------------------geogName------------------------------------\n",
      "  Europa: 10\n",
      "  europejski: 10\n",
      "  Azja: 4\n",
      "  Wall Street: 3\n",
      "  Ziemia: 3\n",
      "  Trieu: 3\n",
      "  IGCSE: 2\n",
      "  Ameryka: 2\n",
      "  Rezerwa Federalny: 2\n",
      "  Europejczyk: 2\n",
      "------------------------------------time------------------------------------\n",
      "  00: 2\n",
      "  godzina 8: 1\n",
      "  godzina 16.: 1\n",
      "  11 rano: 1\n",
      "  23.: 1\n",
      "  10: 1\n",
      "  3 nad rano: 1\n"
     ]
    }
   ],
   "source": [
    "display_top10_for_each_class(classes, 10)"
   ]
  },
  {
   "cell_type": "markdown",
   "id": "481d0ea4-f371-4fa1-8472-9bfc859a1077",
   "metadata": {},
   "source": [
    "# Zadanie 8"
   ]
  },
  {
   "cell_type": "code",
   "execution_count": 9,
   "id": "6c834b48-f395-4bb3-a160-492db90565e1",
   "metadata": {
    "tags": []
   },
   "outputs": [],
   "source": [
    "# wyświetlam top50 elementów ogólnie\n",
    "def display_top_50_elements(dict, n_elements):\n",
    "    # lista, zawierająca [miejsce_na_rank, konkretny_named_entity, nazwę_klasy, liczbę_wystąpnień_named_entity]\n",
    "    list = [[[0, element, class_key, dict[class_key][0][element]] for element in dict[class_key][0].keys()] for class_key in dict.keys()]\n",
    "    \n",
    "    #lista zostaje spłaszczona, gdyż wygląda tak: [[krotka_named_entity_z_klasy1, krotka_named_entity_z_klasy1], [krotka_named_entity_z_klasy2, krotka_named_entity_z_klasy2]....]\n",
    "    res = []\n",
    "    for list_for_class in list:\n",
    "        for element in list_for_class:\n",
    "            res.append(element)\n",
    "    # sortuję po elemencie z id 4 z krotki, po liczbie_wystąpnień_named_entity\n",
    "    res.sort(key=lambda x: x[3], reverse=True)\n",
    "    for i in range(n_elements):\n",
    "        res[i][0] = i\n",
    "    #wyświetlam tabelę\n",
    "    print(tabulate(res[:n_elements], [\"rank\", \"name\", \"type\", \"count\"], tablefmt=\"grid\"))"
   ]
  },
  {
   "cell_type": "code",
   "execution_count": 10,
   "id": "f04c5807-a50f-40b6-bfcd-d43bbe079718",
   "metadata": {
    "tags": []
   },
   "outputs": [
    {
     "name": "stdout",
     "output_type": "stream",
     "text": [
      "+--------+-------------------+-----------+---------+\n",
      "|   rank | name              | type      |   count |\n",
      "+========+===================+===========+=========+\n",
      "|      0 | USA               | placeName |      80 |\n",
      "+--------+-------------------+-----------+---------+\n",
      "|      1 | amerykański       | placeName |      58 |\n",
      "+--------+-------------------+-----------+---------+\n",
      "|      2 | Stany Zjednoczone | placeName |      39 |\n",
      "+--------+-------------------+-----------+---------+\n",
      "|      3 | Amazon            | persName  |      29 |\n",
      "+--------+-------------------+-----------+---------+\n",
      "|      4 | Google            | orgName   |      25 |\n",
      "+--------+-------------------+-----------+---------+\n",
      "|      5 | IRA               | orgName   |      24 |\n",
      "+--------+-------------------+-----------+---------+\n",
      "|      6 | CDO               | orgName   |      14 |\n",
      "+--------+-------------------+-----------+---------+\n",
      "|      7 | gdyby być         | persName  |      13 |\n",
      "+--------+-------------------+-----------+---------+\n",
      "|      8 | ETF               | orgName   |      13 |\n",
      "+--------+-------------------+-----------+---------+\n",
      "|      9 | Apple             | orgName   |      12 |\n",
      "+--------+-------------------+-----------+---------+\n",
      "|     10 | Trump             | persName  |      11 |\n",
      "+--------+-------------------+-----------+---------+\n",
      "|     11 | Indie             | placeName |      10 |\n",
      "+--------+-------------------+-----------+---------+\n",
      "|     12 | Europa            | geogName  |      10 |\n",
      "+--------+-------------------+-----------+---------+\n",
      "|     13 | europejski        | geogName  |      10 |\n",
      "+--------+-------------------+-----------+---------+\n",
      "|     14 | Amerykanin        | placeName |       9 |\n",
      "+--------+-------------------+-----------+---------+\n",
      "|     15 | Huawei            | persName  |       9 |\n",
      "+--------+-------------------+-----------+---------+\n",
      "|     16 | 1099              | date      |       9 |\n",
      "+--------+-------------------+-----------+---------+\n",
      "|     17 | Australia         | placeName |       8 |\n",
      "+--------+-------------------+-----------+---------+\n",
      "|     18 | chiński           | placeName |       8 |\n",
      "+--------+-------------------+-----------+---------+\n",
      "|     19 | Chiny             | placeName |       8 |\n",
      "+--------+-------------------+-----------+---------+\n",
      "|     20 | SS                | orgName   |       8 |\n",
      "+--------+-------------------+-----------+---------+\n",
      "|     21 | S&P               | orgName   |       8 |\n",
      "+--------+-------------------+-----------+---------+\n",
      "|     22 | SPY               | orgName   |       8 |\n",
      "+--------+-------------------+-----------+---------+\n",
      "|     23 | FICO              | orgName   |       8 |\n",
      "+--------+-------------------+-----------+---------+\n",
      "|     24 | SIM               | orgName   |       8 |\n",
      "+--------+-------------------+-----------+---------+\n",
      "|     25 | Wielki Brytania   | placeName |       7 |\n",
      "+--------+-------------------+-----------+---------+\n",
      "|     26 | Obama             | persName  |       7 |\n",
      "+--------+-------------------+-----------+---------+\n",
      "|     27 | sald              | persName  |       7 |\n",
      "+--------+-------------------+-----------+---------+\n",
      "|     28 | IRS               | orgName   |       7 |\n",
      "+--------+-------------------+-----------+---------+\n",
      "|     29 | MBA               | orgName   |       7 |\n",
      "+--------+-------------------+-----------+---------+\n",
      "|     30 | PE                | orgName   |       7 |\n",
      "+--------+-------------------+-----------+---------+\n",
      "|     31 | NRO               | orgName   |       7 |\n",
      "+--------+-------------------+-----------+---------+\n",
      "|     32 | nowy Jork         | placeName |       6 |\n",
      "+--------+-------------------+-----------+---------+\n",
      "|     33 | Kalifornia        | placeName |       6 |\n",
      "+--------+-------------------+-----------+---------+\n",
      "|     34 | Ameryka           | placeName |       6 |\n",
      "+--------+-------------------+-----------+---------+\n",
      "|     35 | Hachette          | persName  |       6 |\n",
      "+--------+-------------------+-----------+---------+\n",
      "|     36 | NYSE              | orgName   |       6 |\n",
      "+--------+-------------------+-----------+---------+\n",
      "|     37 | UE                | orgName   |       6 |\n",
      "+--------+-------------------+-----------+---------+\n",
      "|     38 | Roth              | orgName   |       6 |\n",
      "+--------+-------------------+-----------+---------+\n",
      "|     39 | Microsoft         | orgName   |       6 |\n",
      "+--------+-------------------+-----------+---------+\n",
      "|     40 | HOA               | orgName   |       6 |\n",
      "+--------+-------------------+-----------+---------+\n",
      "|     41 | 2008 rok          | date      |       6 |\n",
      "+--------+-------------------+-----------+---------+\n",
      "|     42 | angielski         | placeName |       5 |\n",
      "+--------+-------------------+-----------+---------+\n",
      "|     43 | Kanada            | placeName |       5 |\n",
      "+--------+-------------------+-----------+---------+\n",
      "|     44 | Amerykan          | placeName |       5 |\n",
      "+--------+-------------------+-----------+---------+\n",
      "|     45 | china             | placeName |       5 |\n",
      "+--------+-------------------+-----------+---------+\n",
      "|     46 | Grecja            | placeName |       5 |\n",
      "+--------+-------------------+-----------+---------+\n",
      "|     47 | indyjski          | placeName |       5 |\n",
      "+--------+-------------------+-----------+---------+\n",
      "|     48 | Excel             | persName  |       5 |\n",
      "+--------+-------------------+-----------+---------+\n",
      "|     49 | Schwab            | persName  |       5 |\n",
      "+--------+-------------------+-----------+---------+\n"
     ]
    }
   ],
   "source": [
    "display_top_50_elements(classes, 50)"
   ]
  },
  {
   "cell_type": "markdown",
   "id": "8b1e92f2-2731-4212-ba1c-422b1195e386",
   "metadata": {},
   "source": [
    "# Zadanie 9"
   ]
  },
  {
   "cell_type": "code",
   "execution_count": 11,
   "id": "7c0bfe8d-e581-4fba-937b-bef349cea731",
   "metadata": {
    "tags": []
   },
   "outputs": [
    {
     "data": {
      "application/vnd.jupyter.widget-view+json": {
       "model_id": "1900bc76c8f6411795e88b3a3a48a3ce",
       "version_major": 2,
       "version_minor": 0
      },
      "text/plain": [
       "Processing:   0%|          | 0/1000 [00:00<?, ?it/s]"
      ]
     },
     "metadata": {},
     "output_type": "display_data"
    }
   ],
   "source": [
    "#filtruję zdania, posiadające co najmniej 2 named_entities\n",
    "def has_multiple_entity_types(doc):\n",
    "    types = {ent.label_ for ent in doc.ents}\n",
    "    return len(types) > 1\n",
    "\n",
    "sentences_with_entities = []\n",
    "for document in tqdm(df_random.iloc, desc = \"Processing: \", total=len(df_random)):\n",
    "    doc = nlp(document.text)\n",
    "    for sent in doc.sents:\n",
    "        if has_multiple_entity_types(sent):\n",
    "            sentences_with_entities.append(sent)"
   ]
  },
  {
   "cell_type": "code",
   "execution_count": 12,
   "id": "d5df93a0-2aa9-4f96-8a6f-2e4ddba9f7cd",
   "metadata": {
    "tags": []
   },
   "outputs": [
    {
     "name": "stdout",
     "output_type": "stream",
     "text": [
      "[I to wiąże Stany Zjednoczone, tak jak na przykład Słowację, [blokując ich prawo do przystępnej opieki zdrowotnej] (http://www.italaw.com/sites/default/files/case-documents/italaw3206.pdf ), ponieważ firma ubezpieczeniowa po cichu, w niewidoczny sposób sfinalizowała NAJWYŻSZE prawo do ogromnych odszkodowań, w zasadzie darmowych pieniędzy., A może powinienem po prostu użyć obliczenia odsetek w Google i oczekiwać, że średni rynkowy zwrot z moich depozytów będzie tam w 2045 roku., Jeśli na Twoim koncie pojawi się podejrzana aktywność, zostanie ona zgłoszona do jednostki zajmującej się praniem pieniędzy w Departamencie Skarbu USA, która może przejść przez traktaty, które Stany Zjednoczone mogą mieć z Twoim krajem ojczystym (umowa podatkowa, umowa o ekstradycji itp.) ., Firmy IT takie jak PWC, BoozAllen, Capgemini, Cognizant i Accenture byłyby lepsze., prawdopodobnie nie tylko usunąć go z dochodu podlegającego opodatkowaniu, prawdopodobnie istnieje formularz podobny do amerykańskiego formularza 1116, aby obliczyć dostępny kredyt.]\n"
     ]
    }
   ],
   "source": [
    "print(sentences_with_entities[:5])"
   ]
  },
  {
   "cell_type": "code",
   "execution_count": 13,
   "id": "47570ac4-0a09-431d-9300-0e7846d65924",
   "metadata": {
    "tags": []
   },
   "outputs": [
    {
     "data": {
      "text/html": [
       "<span class=\"tex2jax_ignore\"><div class=\"entities\" style=\"line-height: 2.5; direction: ltr\">I to wiąże \n",
       "<mark class=\"entity\" style=\"background: limegreen; padding: 0.45em 0.6em; margin: 0 0.25em; line-height: 1; border-radius: 0.35em;\">\n",
       "    Stany Zjednoczone\n",
       "    <span style=\"font-size: 0.8em; font-weight: bold; line-height: 1; border-radius: 0.35em; vertical-align: middle; margin-left: 0.5rem\">placeName</span>\n",
       "</mark>\n",
       ", tak jak na przykład \n",
       "<mark class=\"entity\" style=\"background: pink; padding: 0.45em 0.6em; margin: 0 0.25em; line-height: 1; border-radius: 0.35em;\">\n",
       "    Słowację\n",
       "    <span style=\"font-size: 0.8em; font-weight: bold; line-height: 1; border-radius: 0.35em; vertical-align: middle; margin-left: 0.5rem\">persName</span>\n",
       "</mark>\n",
       ", [blokując ich prawo do przystępnej opieki zdrowotnej] (\n",
       "<mark class=\"entity\" style=\"background: aqua; padding: 0.45em 0.6em; margin: 0 0.25em; line-height: 1; border-radius: 0.35em;\">\n",
       "    http://www.italaw.com/sites/default/files/case-documents/italaw3206.pdf\n",
       "    <span style=\"font-size: 0.8em; font-weight: bold; line-height: 1; border-radius: 0.35em; vertical-align: middle; margin-left: 0.5rem\">orgName</span>\n",
       "</mark>\n",
       " ), ponieważ firma ubezpieczeniowa po cichu, w niewidoczny sposób sfinalizowała \n",
       "<mark class=\"entity\" style=\"background: aqua; padding: 0.45em 0.6em; margin: 0 0.25em; line-height: 1; border-radius: 0.35em;\">\n",
       "    NAJWYŻSZE\n",
       "    <span style=\"font-size: 0.8em; font-weight: bold; line-height: 1; border-radius: 0.35em; vertical-align: middle; margin-left: 0.5rem\">orgName</span>\n",
       "</mark>\n",
       " prawo do ogromnych odszkodowań, w zasadzie darmowych pieniędzy.</div></span>"
      ],
      "text/plain": [
       "<IPython.core.display.HTML object>"
      ]
     },
     "metadata": {},
     "output_type": "display_data"
    },
    {
     "data": {
      "text/html": [
       "<span class=\"tex2jax_ignore\"><div class=\"entities\" style=\"line-height: 2.5; direction: ltr\">A może powinienem po prostu użyć obliczenia odsetek w \n",
       "<mark class=\"entity\" style=\"background: limegreen; padding: 0.45em 0.6em; margin: 0 0.25em; line-height: 1; border-radius: 0.35em;\">\n",
       "    Google\n",
       "    <span style=\"font-size: 0.8em; font-weight: bold; line-height: 1; border-radius: 0.35em; vertical-align: middle; margin-left: 0.5rem\">placeName</span>\n",
       "</mark>\n",
       " i oczekiwać, że średni rynkowy zwrot z moich depozytów będzie tam w \n",
       "<mark class=\"entity\" style=\"background: orange; padding: 0.45em 0.6em; margin: 0 0.25em; line-height: 1; border-radius: 0.35em;\">\n",
       "    2045 roku\n",
       "    <span style=\"font-size: 0.8em; font-weight: bold; line-height: 1; border-radius: 0.35em; vertical-align: middle; margin-left: 0.5rem\">date</span>\n",
       "</mark>\n",
       ". </div></span>"
      ],
      "text/plain": [
       "<IPython.core.display.HTML object>"
      ]
     },
     "metadata": {},
     "output_type": "display_data"
    },
    {
     "data": {
      "text/html": [
       "<span class=\"tex2jax_ignore\"><div class=\"entities\" style=\"line-height: 2.5; direction: ltr\">Jeśli na Twoim koncie pojawi się podejrzana aktywność, zostanie ona zgłoszona do jednostki zajmującej się praniem pieniędzy w \n",
       "<mark class=\"entity\" style=\"background: aqua; padding: 0.45em 0.6em; margin: 0 0.25em; line-height: 1; border-radius: 0.35em;\">\n",
       "    Departamencie Skarbu USA\n",
       "    <span style=\"font-size: 0.8em; font-weight: bold; line-height: 1; border-radius: 0.35em; vertical-align: middle; margin-left: 0.5rem\">orgName</span>\n",
       "</mark>\n",
       ", która może przejść przez traktaty, które \n",
       "<mark class=\"entity\" style=\"background: limegreen; padding: 0.45em 0.6em; margin: 0 0.25em; line-height: 1; border-radius: 0.35em;\">\n",
       "    Stany Zjednoczone\n",
       "    <span style=\"font-size: 0.8em; font-weight: bold; line-height: 1; border-radius: 0.35em; vertical-align: middle; margin-left: 0.5rem\">placeName</span>\n",
       "</mark>\n",
       " mogą mieć z Twoim krajem ojczystym (umowa podatkowa, umowa o ekstradycji itp.) .</div></span>"
      ],
      "text/plain": [
       "<IPython.core.display.HTML object>"
      ]
     },
     "metadata": {},
     "output_type": "display_data"
    },
    {
     "data": {
      "text/html": [
       "<span class=\"tex2jax_ignore\"><div class=\"entities\" style=\"line-height: 2.5; direction: ltr\">Firmy IT takie jak \n",
       "<mark class=\"entity\" style=\"background: aqua; padding: 0.45em 0.6em; margin: 0 0.25em; line-height: 1; border-radius: 0.35em;\">\n",
       "    PWC\n",
       "    <span style=\"font-size: 0.8em; font-weight: bold; line-height: 1; border-radius: 0.35em; vertical-align: middle; margin-left: 0.5rem\">orgName</span>\n",
       "</mark>\n",
       ", \n",
       "<mark class=\"entity\" style=\"background: pink; padding: 0.45em 0.6em; margin: 0 0.25em; line-height: 1; border-radius: 0.35em;\">\n",
       "    BoozAllen\n",
       "    <span style=\"font-size: 0.8em; font-weight: bold; line-height: 1; border-radius: 0.35em; vertical-align: middle; margin-left: 0.5rem\">persName</span>\n",
       "</mark>\n",
       ", \n",
       "<mark class=\"entity\" style=\"background: pink; padding: 0.45em 0.6em; margin: 0 0.25em; line-height: 1; border-radius: 0.35em;\">\n",
       "    Capgemini\n",
       "    <span style=\"font-size: 0.8em; font-weight: bold; line-height: 1; border-radius: 0.35em; vertical-align: middle; margin-left: 0.5rem\">persName</span>\n",
       "</mark>\n",
       ", \n",
       "<mark class=\"entity\" style=\"background: pink; padding: 0.45em 0.6em; margin: 0 0.25em; line-height: 1; border-radius: 0.35em;\">\n",
       "    Cognizant\n",
       "    <span style=\"font-size: 0.8em; font-weight: bold; line-height: 1; border-radius: 0.35em; vertical-align: middle; margin-left: 0.5rem\">persName</span>\n",
       "</mark>\n",
       " i \n",
       "<mark class=\"entity\" style=\"background: pink; padding: 0.45em 0.6em; margin: 0 0.25em; line-height: 1; border-radius: 0.35em;\">\n",
       "    Accenture\n",
       "    <span style=\"font-size: 0.8em; font-weight: bold; line-height: 1; border-radius: 0.35em; vertical-align: middle; margin-left: 0.5rem\">persName</span>\n",
       "</mark>\n",
       " byłyby lepsze. </div></span>"
      ],
      "text/plain": [
       "<IPython.core.display.HTML object>"
      ]
     },
     "metadata": {},
     "output_type": "display_data"
    },
    {
     "data": {
      "text/html": [
       "<span class=\"tex2jax_ignore\"><div class=\"entities\" style=\"line-height: 2.5; direction: ltr\">prawdopodobnie nie tylko usunąć go z dochodu podlegającego opodatkowaniu, prawdopodobnie istnieje formularz podobny do \n",
       "<mark class=\"entity\" style=\"background: limegreen; padding: 0.45em 0.6em; margin: 0 0.25em; line-height: 1; border-radius: 0.35em;\">\n",
       "    amerykańskiego\n",
       "    <span style=\"font-size: 0.8em; font-weight: bold; line-height: 1; border-radius: 0.35em; vertical-align: middle; margin-left: 0.5rem\">placeName</span>\n",
       "</mark>\n",
       " formularza \n",
       "<mark class=\"entity\" style=\"background: orange; padding: 0.45em 0.6em; margin: 0 0.25em; line-height: 1; border-radius: 0.35em;\">\n",
       "    1116\n",
       "    <span style=\"font-size: 0.8em; font-weight: bold; line-height: 1; border-radius: 0.35em; vertical-align: middle; margin-left: 0.5rem\">date</span>\n",
       "</mark>\n",
       ", aby obliczyć dostępny kredyt.</div></span>"
      ],
      "text/plain": [
       "<IPython.core.display.HTML object>"
      ]
     },
     "metadata": {},
     "output_type": "display_data"
    }
   ],
   "source": [
    "from spacy import displacy\n",
    "options = {\n",
    "    \"ents\": [\"orgName\", \"placeName\", \"geogName\", \"time\", \"date\", \"persName\"],  # Specify which entity types to include\n",
    "    \"colors\": {\"orgName\": \"aqua\", \"placeName\": \"limegreen\", \"geogName\": \"yellow\", \"time\": \"red\", \"date\": \"orange\", \"persName\": \"pink\"}  # Customize entity colors\n",
    "}\n",
    "\n",
    "\n",
    "# Display the formatted sentences\n",
    "for i, sent in enumerate(sentences_with_entities[:5], 1):\n",
    "    str = displacy.render(sent, style = \"ent\", jupyter = True, options = options)"
   ]
  },
  {
   "cell_type": "markdown",
   "id": "72104d8f-48bd-4a05-b451-7b4733ddcf9e",
   "metadata": {},
   "source": [
    "## Which of the method (counting expressions with capital letters vs. NER) worked better for the task concerned with identification of the proper names?\n",
    "\n",
    "Zdecydowanie lepsze wyniki zostały osiągnięte dla metody wykorzystującej NER. Uzyskane named entites były pogrupowane, co pozwala je lepiej przeanalizować. Zliczanie named entities za pomocą wielkich liter, spowoodowało też wychwycenie słów takich jak: \"Twój\", czy \"Ty\", które nie są named entity, ale występują w środku zdania zapisane wielką literą na początku.\n",
    "\n",
    "## What are the drawbacks of the method based on capital letters?\n",
    "\n",
    "Zdecydowanym minusem jest istnienie słów takich jak \"Twój\", \"Ty\", \"Ciebie\", które nie są named entities. Często w nazwach własnych występuje również litera \"i\", która w zaproponowanej implementacji spowoduje rozdzielenie named entity na 2 osobne byty, na przykład: \"Ministerstwo Rozwoju i Technologii\" zostanie zapisane jako: \"Ministerstwo Rozwoju\", \"Technologii\". Takie podejście jakkolwiek ma pewien sens w języku polskim, to nie można go zastosować uniwersalnie. Na przykład w języku niemieckim, każdy rzeczownik jest pisany wielką literą, przez co korzystając z tej metody, wyłapalibyśmy wszystkie rzeczowniki. Nie jest to zatem metoda uniwersalna.\n",
    "\n",
    "## What are the drawbacks of the method based on NER?\n",
    "\n",
    "Użycie NER'a posiada bardzo wiele plusów. Wyłapywane są rzeczywiście elementy będące named entities. Natomiast metoda nie jest niestety idealna i w dalszym ciągu jest możliwość jej ulepszania. Słowa takie jak \"Stany Zjednoczone\" i \"USA\" powinny zostać w idealnym świecie zaklasyfikowane jako ten sam obiekt. Użyty przeze mnie NER niestety tego nie potrafi. Warto dodatkowo wspomnieć, że słowa takie jak \"Wołodymy Zełesnki\" i \"Zełenski\", a nawet \"Prezydent Ukrainy\" odnoszą się do jednej i tej samej osoby, jednak wymagana jest wiedza o świecie, wiedza historyczna, aby być w stanie je odpowienio połączyć.\n",
    "\n",
    "## Which of the coarse-grained NER groups has the best and which has the worst results? Try to justify this observation.\n",
    "\n",
    "Bardzo trudno stwierdzić z którą kategorią named entity NER radzi sobie najlepiej, gdyż nie posiadam metryki zdolnej to ocenić, tak więc moja ocena będzie jedynie subiektywną opinią. Według mnie NER poradził sobie dobrze z grupą **orgName**. Elementy z grup **persName**, **placeName**, oraz **geogName** były często w błędnie zaklasyfikowane, np. \"Wall Street\" jako geogName, gdy wiadomo, że jest to orgName. W mojej opinii bardzo słabo model radzi sobie z datami, co widać nawet na przykładzie 5 zdań powyżej, gdzie liczba 1116 została zaklasyfikowana jako data. Jednak w każdej klasie możemy wyszczególnić elementy, które zostały błędnie zaklasyfikowane.\n",
    "\n",
    "## Do you think NER is sufficient for identifying different occurrences of the same entity (i.e. consider \"USA\" and \"Stany Zjednoczone\" and \"Stany Zjednoczone Ameryki Północnej\")? If not, can you suggest an algorithm or a tool that would be able to group such names together?\n",
    "\n",
    "Jak napisałem we wnioskach powyżej, uważam, że NER nie jest wystarczający do zidentyfikowania różnych wystąpień tej samej named entity, na przykład \"USA\" i \"Stany Zjednoczone\" zostaje zaklasyfikowane jako dwie odrębne named entities. Często też słowa takie jak \"US\" zostają zaklasyfikowane jako **geogName**, gdy na przykład powinny zostać zaklasyfikowane jako **orgName**. Jedyne narzędzie, o którym wiem, które może sobie poradzić z tym zagadnieniem jest model językowy, który do analizy named entities weźmie pod uwagę szerszy kontekst, a nie jedynie wyrazy jako odrębne tokeny jak robi to NER.\n",
    "\n",
    "## Can you think of a real world problem that would benefit the most from application of Named Entity Recognition algorithm?\n",
    "\n",
    "Mogę wyobrazić sobie narzędzie pozwalające analizować dane i wiadomości na temat konkretnej spółki. Załóżmy, że interesuje mnie spółka **Facebook**. Korzystając z NER, mogę regularnie ściągać z dostępnych mainstreamowych mediów i popularnych kont na X(Twitter) wiadomości, które następnie będę analizował przy pomocy NER, w poszukiwaniu named entity **Facebook**. Dzięki takiemu zabiegowi będę w stanie odfiltrować jedynie wiadomości które mają dla mnie znaczenie.\n",
    "\n",
    "Podobna sytuacja ma miejsce, gdy interesują mnie wiadomości na przykład na temat USA, lub innego kraju na świecie. NER ma tutaj dużo większe pole do popisu, gdyż jak można zobaczyć w zrealizowanym zadaniu, słowo \"USA\" występuje bardzo często w różnych formach i dobrze wytrenowany NER, który umiałby wszystkie te formy połączyć w jedno, bardzo pomógłby w realizacji tego zadania.\n",
    "\n",
    "Kolejnym przykładem mogłoby być użycie NER'a do napisania wirtualnego asystenta. Jeżeli prosilibyśmy go np. o wyznaczenie drogi do Melbourne, mógłby skorzystać z NER'a aby określić, czy Melbourne to miasto, centrum handlowe, czy też imię znajomego i w zależności od wyniku zaplanować trasę podróży. "
   ]
  }
 ],
 "metadata": {
  "kernelspec": {
   "display_name": "Python 3 (ipykernel)",
   "language": "python",
   "name": "python3"
  },
  "language_info": {
   "codemirror_mode": {
    "name": "ipython",
    "version": 3
   },
   "file_extension": ".py",
   "mimetype": "text/x-python",
   "name": "python",
   "nbconvert_exporter": "python",
   "pygments_lexer": "ipython3",
   "version": "3.10.9"
  }
 },
 "nbformat": 4,
 "nbformat_minor": 5
}
